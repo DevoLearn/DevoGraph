{
 "cells": [
  {
   "cell_type": "code",
   "execution_count": 10,
   "metadata": {},
   "outputs": [
    {
     "data": {
      "image/png": "[encoded data removed]",
      "text/plain": [
       "<Figure size 432x288 with 1 Axes>"
      ]
     },
     "metadata": {
      "needs_background": "light"
     },
     "output_type": "display_data"
    }
   ],
   "source": [
    "import networkx as nx\n",
    "import numpy as np\n",
    "import matplotlib.pyplot as plt\n",
    "from mpl_toolkits.mplot3d import Axes3D\n",
    "\n",
    "# The graph to visualize\n",
    "G = nx.cycle_graph(20)\n",
    "\n",
    "# 3d spring layout\n",
    "pos = nx.spring_layout(G, dim=3, seed=779)\n",
    "# Extract node and edge positions from the layout\n",
    "node_xyz = np.array([pos[v] for v in sorted(G)])\n",
    "edge_xyz = np.array([(pos[u], pos[v]) for u, v in G.edges()])\n",
    "\n",
    "# Create the 3D figure\n",
    "fig = plt.figure()\n",
    "ax = fig.add_subplot(111, projection=\"3d\")\n",
    "\n",
    "# Plot the nodes - alpha is scaled by \"depth\" automatically\n",
    "ax.scatter(*node_xyz.T, s=100, ec=\"w\")\n",
    "\n",
    "# Plot the edges\n",
    "for vizedge in edge_xyz:\n",
    "    ax.plot(*vizedge.T, color=\"tab:gray\", linestyle='dashed')\n",
    "    \n",
    "ax.grid(False)"
   ]
  },
  {
   "cell_type": "code",
   "execution_count": 4,
   "metadata": {},
   "outputs": [
    {
     "data": {
      "text/plain": [
       "array([[[ 0.91962151,  0.15504168, -0.09547315],\n",
       "        [ 0.91123379, -0.15729829, -0.09108174]],\n",
       "\n",
       "       [[ 0.91962151,  0.15504168, -0.09547315],\n",
       "        [ 0.83368264,  0.45061062, -0.12947549]],\n",
       "\n",
       "       [[ 0.91123379, -0.15729829, -0.09108174],\n",
       "        [ 0.81024151, -0.45472946, -0.09227696]],\n",
       "\n",
       "       [[ 0.81024151, -0.45472946, -0.09227696],\n",
       "        [ 0.6295318 , -0.71016546, -0.08128322]],\n",
       "\n",
       "       [[ 0.6295318 , -0.71016546, -0.08128322],\n",
       "        [ 0.38882952, -0.89996603, -0.03898421]],\n",
       "\n",
       "       [[ 0.38882952, -0.89996603, -0.03898421],\n",
       "        [ 0.11538676, -1.        ,  0.04937456]],\n",
       "\n",
       "       [[ 0.11538676, -1.        ,  0.04937456],\n",
       "        [-0.16163876, -0.99203728,  0.1689781 ]],\n",
       "\n",
       "       [[-0.16163876, -0.99203728,  0.1689781 ],\n",
       "        [-0.41323241, -0.87458715,  0.28242044]],\n",
       "\n",
       "       [[-0.41323241, -0.87458715,  0.28242044],\n",
       "        [-0.614422  , -0.66320335,  0.35949369]],\n",
       "\n",
       "       [[-0.614422  , -0.66320335,  0.35949369],\n",
       "        [-0.75222576, -0.39363752,  0.37414153]],\n",
       "\n",
       "       [[-0.75222576, -0.39363752,  0.37414153],\n",
       "        [-0.83597047, -0.10576862,  0.31164122]],\n",
       "\n",
       "       [[-0.83597047, -0.10576862,  0.31164122],\n",
       "        [-0.86372018,  0.17691447,  0.18930902]],\n",
       "\n",
       "       [[-0.86372018,  0.17691447,  0.18930902],\n",
       "        [-0.81478488,  0.44267302,  0.0402431 ]],\n",
       "\n",
       "       [[-0.81478488,  0.44267302,  0.0402431 ],\n",
       "        [-0.68001153,  0.67506861, -0.10520235]],\n",
       "\n",
       "       [[-0.68001153,  0.67506861, -0.10520235],\n",
       "        [-0.46444632,  0.85823044, -0.20964185]],\n",
       "\n",
       "       [[-0.46444632,  0.85823044, -0.20964185],\n",
       "        [-0.18640317,  0.95878808, -0.2633544 ]],\n",
       "\n",
       "       [[-0.18640317,  0.95878808, -0.2633544 ],\n",
       "        [ 0.11645397,  0.96324307, -0.26434855]],\n",
       "\n",
       "       [[ 0.11645397,  0.96324307, -0.26434855],\n",
       "        [ 0.40682946,  0.87294333, -0.22790939]],\n",
       "\n",
       "       [[ 0.40682946,  0.87294333, -0.22790939],\n",
       "        [ 0.65504453,  0.69787983, -0.17657036]],\n",
       "\n",
       "       [[ 0.65504453,  0.69787983, -0.17657036],\n",
       "        [ 0.83368264,  0.45061062, -0.12947549]]])"
      ]
     },
     "execution_count": 4,
     "metadata": {},
     "output_type": "execute_result"
    }
   ],
   "source": [
    "edge_xyz"
   ]
  },
  {
   "cell_type": "code",
   "execution_count": 6,
   "metadata": {},
   "outputs": [
    {
     "name": "stdout",
     "output_type": "stream",
     "text": [
      "[0.91962151 0.91123379] [ 0.15504168 -0.15729829] [-0.09547315 -0.09108174]\n",
      "[0.91962151 0.83368264] [0.15504168 0.45061062] [-0.09547315 -0.12947549]\n",
      "[0.91123379 0.81024151] [-0.15729829 -0.45472946] [-0.09108174 -0.09227696]\n",
      "[0.81024151 0.6295318 ] [-0.45472946 -0.71016546] [-0.09227696 -0.08128322]\n",
      "[0.6295318  0.38882952] [-0.71016546 -0.89996603] [-0.08128322 -0.03898421]\n",
      "[0.38882952 0.11538676] [-0.89996603 -1.        ] [-0.03898421  0.04937456]\n",
      "[ 0.11538676 -0.16163876] [-1.         -0.99203728] [0.04937456 0.1689781 ]\n",
      "[-0.16163876 -0.41323241] [-0.99203728 -0.87458715] [0.1689781  0.28242044]\n",
      "[-0.41323241 -0.614422  ] [-0.87458715 -0.66320335] [0.28242044 0.35949369]\n",
      "[-0.614422   -0.75222576] [-0.66320335 -0.39363752] [0.35949369 0.37414153]\n",
      "[-0.75222576 -0.83597047] [-0.39363752 -0.10576862] [0.37414153 0.31164122]\n",
      "[-0.83597047 -0.86372018] [-0.10576862  0.17691447] [0.31164122 0.18930902]\n",
      "[-0.86372018 -0.81478488] [0.17691447 0.44267302] [0.18930902 0.0402431 ]\n",
      "[-0.81478488 -0.68001153] [0.44267302 0.67506861] [ 0.0402431  -0.10520235]\n",
      "[-0.68001153 -0.46444632] [0.67506861 0.85823044] [-0.10520235 -0.20964185]\n",
      "[-0.46444632 -0.18640317] [0.85823044 0.95878808] [-0.20964185 -0.2633544 ]\n",
      "[-0.18640317  0.11645397] [0.95878808 0.96324307] [-0.2633544  -0.26434855]\n",
      "[0.11645397 0.40682946] [0.96324307 0.87294333] [-0.26434855 -0.22790939]\n",
      "[0.40682946 0.65504453] [0.87294333 0.69787983] [-0.22790939 -0.17657036]\n",
      "[0.65504453 0.83368264] [0.69787983 0.45061062] [-0.17657036 -0.12947549]\n"
     ]
    }
   ],
   "source": [
    "for vizedge in edge_xyz:\n",
    "    print(*vizedge.T)"
   ]
  },
  {
   "cell_type": "code",
   "execution_count": null,
   "metadata": {},
   "outputs": [],
   "source": []
  }
 ],
 "metadata": {
  "kernelspec": {
   "display_name": "Python 3 (ipykernel)",
   "language": "python",
   "name": "python3"
  },
  "language_info": {
   "codemirror_mode": {
    "name": "ipython",
    "version": 3
   },
   "file_extension": ".py",
   "mimetype": "text/x-python",
   "name": "python",
   "nbconvert_exporter": "python",
   "pygments_lexer": "ipython3",
   "version": "3.9.13"
  },
  "vscode": {
   "interpreter": {
    "hash": "eb71ac050f92a5d5e3cdea462f22e174d379ee0836c3076b1e7df4a375a19e34"
   }
  }
 },
 "nbformat": 4,
 "nbformat_minor": 2
}
