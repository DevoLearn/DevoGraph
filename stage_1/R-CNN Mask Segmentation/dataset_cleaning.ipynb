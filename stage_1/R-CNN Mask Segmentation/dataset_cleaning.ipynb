{
 "cells": [
  {
   "cell_type": "markdown",
   "id": "f5bf29a4",
   "metadata": {},
   "source": [
    "# Data cleaning C. Elegans dataset of nuclei images\n",
    "\n",
    "The main focus is to check that both the segmented and feature images exist in the dataset. If one of them is missing then you don't consider it. This reduces the dataset size by a lot and removes noisy images as well"
   ]
  },
  {
   "cell_type": "code",
   "execution_count": 1,
   "id": "1987e2e5",
   "metadata": {},
   "outputs": [],
   "source": [
    "import sys\n",
    "from pathlib import Path\n",
    "# sys.path.append('../')\n",
    "sys.path.append('/home/hrc/gsoc/d-gnn/devolearn')\n",
    "\n",
    "import os\n",
    "import cv2 \n",
    "import numpy as np\n",
    "from matplotlib import pyplot as plt\n",
    "\n",
    "FILE_PATH = '/home/hrc/Downloads/GSoC/dataset/'"
   ]
  },
  {
   "cell_type": "code",
   "execution_count": 2,
   "id": "63bf9a92",
   "metadata": {},
   "outputs": [],
   "source": [
    "import os\n",
    "import re\n",
    "\n",
    "# Define the paths to the folders\n",
    "features_folder = \"/home/hrc/Downloads/GSoC/dataset/features/features\"\n",
    "segmentation_folder = \"/home/hrc/Downloads/GSoC/dataset/segmentation_maps_1\"\n",
    "\n",
    "# Get a list of filenames in each folder\n",
    "features_filenames = os.listdir(features_folder)\n",
    "segmentation_filenames = os.listdir(segmentation_folder)\n",
    "\n",
    "# Create regular expressions to match the common pattern after 'F' and 'L'\n",
    "pattern = re.compile(r'[FL](\\d+_\\d+)\\.png')\n",
    "\n",
    "# Initialize empty sets to store the common patterns\n",
    "common_features = []\n",
    "common_seg = []\n",
    "# Find common patterns in features filenames\n",
    "for filename in features_filenames:\n",
    "    match = pattern.search(filename)\n",
    "    if match:\n",
    "        common_patterns.add(match.group(1))\n",
    "\n",
    "# Find common patterns in segmentation filenames\n",
    "for filename in segmentation_filenames:\n",
    "    match = pattern.search(filename)\n",
    "    if match:\n",
    "        for file in features_filenames:\n",
    "            match2 = pattern.search(file)\n",
    "            if match.group(1) == match2.group(1):\n",
    "                common_features.append(file)\n",
    "                common_seg.append(filename)\n",
    "\n",
    "# # Convert the set to a sorted list\n",
    "common_patterns = sorted(list(common_patterns))\n",
    "print(len(common_patterns))\n",
    "\n",
    "# # # Print the common patterns\n",
    "print(\"Common patterns found in both folders:\")\n",
    "for pattern in common_patterns:\n",
    "    print(pattern)\n"
   ]
  },
  {
   "cell_type": "code",
   "execution_count": 3,
   "id": "81f9232e",
   "metadata": {},
   "outputs": [
    {
     "name": "stdout",
     "output_type": "stream",
     "text": [
      "1106\n",
      "1106\n"
     ]
    }
   ],
   "source": [
    "# Convert the set to a sorted list\n",
    "print(len(common_features))\n",
    "print(len(common_seg))\n",
    "common_patterns = sorted(list(common_patterns))\n",
    "print(len(common_patterns))\n",
    "\n",
    "# # # Print the common patterns\n",
    "print(\"Common patterns found in both folders:\")\n",
    "for pattern in common_patterns:\n",
    "    print(pattern)"
   ]
  },
  {
   "cell_type": "code",
   "execution_count": 4,
   "id": "5041f0ae",
   "metadata": {},
   "outputs": [],
   "source": [
    "import os\n",
    "import shutil\n",
    "\n",
    "# Specify the source folder, destination folder, and list of filenames to copy\n",
    "source_folder = features_folder\n",
    "destination_folder = \"/home/hrc/Downloads/GSoC/dataset/new_dataset/final_features\"\n",
    "filenames_to_copy = common_features  # Replace with your list of filenames\n",
    "\n",
    "# Iterate over the filenames and copy each one to the destination folder\n",
    "for filename in filenames_to_copy:\n",
    "    source_path = os.path.join(source_folder, filename)\n",
    "    destination_path = os.path.join(destination_folder, filename)\n",
    "    \n",
    "    # Check if the source file exists\n",
    "    if os.path.exists(source_path):\n",
    "        # Copy the file to the destination folder\n",
    "        shutil.copy(source_path, destination_path)\n",
    "        print(f\"Copied {filename} to {destination_folder}\")\n",
    "    else:\n",
    "        print(f\"{filename} does not exist in {source_folder}\")\n"
   ]
  },
  {
   "cell_type": "code",
   "execution_count": 5,
   "id": "f4d11f1b",
   "metadata": {},
   "outputs": [],
   "source": [
    "import os\n",
    "import shutil\n",
    "\n",
    "# Specify the source folder, destination folder, and list of filenames to copy\n",
    "source_folder = segmentation_folder\n",
    "destination_folder = \"/home/hrc/Downloads/GSoC/dataset/new_dataset/final_seg_maps\"\n",
    "filenames_to_copy = common_seg  # Replace with your list of filenames\n",
    "\n",
    "# Iterate over the filenames and copy each one to the destination folder\n",
    "for filename in filenames_to_copy:\n",
    "    source_path = os.path.join(source_folder, filename)\n",
    "    destination_path = os.path.join(destination_folder, filename)\n",
    "    \n",
    "    # Check if the source file exists\n",
    "    if os.path.exists(source_path):\n",
    "        # Copy the file to the destination folder\n",
    "        shutil.copy(source_path, destination_path)\n",
    "        print(f\"Copied {filename} to {destination_folder}\")\n",
    "    else:\n",
    "        print(f\"{filename} does not exist in {source_folder}\")\n"
   ]
  }
 ],
 "metadata": {
  "kernelspec": {
   "display_name": "Python 3 (ipykernel)",
   "language": "python",
   "name": "python3"
  },
  "language_info": {
   "codemirror_mode": {
    "name": "ipython",
    "version": 3
   },
   "file_extension": ".py",
   "mimetype": "text/x-python",
   "name": "python",
   "nbconvert_exporter": "python",
   "pygments_lexer": "ipython3",
   "version": "3.9.13"
  }
 },
 "nbformat": 4,
 "nbformat_minor": 5
}
